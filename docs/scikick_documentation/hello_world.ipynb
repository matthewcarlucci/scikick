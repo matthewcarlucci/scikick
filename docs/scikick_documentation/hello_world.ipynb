{
 "cells": [
  {
   "cell_type": "markdown",
   "metadata": {},
   "source": [
    "---\n",
    "title: Scikick \"Hello, World!\"\n",
    "---\n",
    "\n",
    "A basic use-case of Scikick is presented below. Links to the command [help outputs](help.html) (e.g. `sk <command> --help`) are provided throughout the documentation."
   ]
  },
  {
   "cell_type": "markdown",
   "metadata": {},
   "source": [
    "<div hidden>"
   ]
  },
  {
   "cell_type": "code",
   "execution_count": null,
   "metadata": {
    "tags": [
     "hidecode"
    ]
   },
   "outputs": [],
   "source": [
    "# Remove previous tutorial contents\n",
    "rm HW/scikick.yml\n",
    "rm -rf HW/report\n",
    "sed -i '' 's/Hello/Hi/g' HW/hello.Rmd"
   ]
  },
  {
   "cell_type": "markdown",
   "metadata": {},
   "source": [
    "</div>"
   ]
  },
  {
   "cell_type": "markdown",
   "metadata": {},
   "source": [
    "# sk init\n",
    "\n",
    "[sk init](help.html#init) should be executed at the project root in an existing or an empty project (*i.e.* much like `git init`). It will check for required dependencies and create a `scikick.yml` file to store the workflow definition. "
   ]
  },
  {
   "cell_type": "code",
   "execution_count": null,
   "metadata": {},
   "outputs": [],
   "source": [
    "# Go to hello world directory\n",
    "cd HW\n",
    "sk init -y"
   ]
  },
  {
   "cell_type": "markdown",
   "metadata": {},
   "source": [
    "# sk add\n",
    "\n",
    "[sk add](help.html#add) is used to add notebooks to the project.\n",
    "\n",
    "We will add the first notebook (`hello.Rmd`) to the project."
   ]
  },
  {
   "cell_type": "code",
   "execution_count": null,
   "metadata": {},
   "outputs": [],
   "source": [
    "cat hello.Rmd"
   ]
  },
  {
   "cell_type": "code",
   "execution_count": null,
   "metadata": {},
   "outputs": [],
   "source": [
    "sk add hello.Rmd"
   ]
  },
  {
   "cell_type": "markdown",
   "metadata": {},
   "source": [
    "This has added the notebook to the `scikick.yml` configuration file (*i.e.* under \"analysis\")."
   ]
  },
  {
   "cell_type": "code",
   "execution_count": null,
   "metadata": {},
   "outputs": [],
   "source": [
    "cat scikick.yml"
   ]
  },
  {
   "cell_type": "markdown",
   "metadata": {},
   "source": [
    "We will also add a second notebook in a plain `.R` format (`world.R`)."
   ]
  },
  {
   "cell_type": "code",
   "execution_count": null,
   "metadata": {},
   "outputs": [],
   "source": [
    "cat world.R"
   ]
  },
  {
   "cell_type": "code",
   "execution_count": null,
   "metadata": {},
   "outputs": [],
   "source": [
    "sk add world.R"
   ]
  },
  {
   "cell_type": "markdown",
   "metadata": {},
   "source": [
    "# sk status\n",
    "\n",
    "[sk status](help.html#status) can now be used to inspect the workflow state for the two notebooks that were added to the project (`hello.Rmd` and `world.R`)."
   ]
  },
  {
   "cell_type": "code",
   "execution_count": null,
   "metadata": {},
   "outputs": [],
   "source": [
    "sk status"
   ]
  },
  {
   "cell_type": "markdown",
   "metadata": {},
   "source": [
    "`sk status` shows all notebooks that must be executed and uses a 3 character encoding to show the reason for execution. The 'm' in the first slot here indicates the output files for `hello.Rmd`, `world.R`, and the homepage are all missing in the `report/out_md/` directory."
   ]
  },
  {
   "cell_type": "markdown",
   "metadata": {},
   "source": [
    "# sk run\n",
    "\n",
    "[sk run](help.html#run) can now be used to call on the snakemake backend to generate all out-of-date or missing output files. "
   ]
  },
  {
   "cell_type": "code",
   "execution_count": null,
   "metadata": {},
   "outputs": [],
   "source": [
    "sk run"
   ]
  },
  {
   "cell_type": "markdown",
   "metadata": {},
   "source": [
    "We can see above that Scikick provides messages when executing each stage of the project (for more details on how this execution works, see the [\"Core Design\"](core_design.html) page). After execution is finished, the directory structure looks as follows."
   ]
  },
  {
   "cell_type": "code",
   "execution_count": null,
   "metadata": {},
   "outputs": [],
   "source": [
    "ls -h *.* report/*"
   ]
  },
  {
   "cell_type": "markdown",
   "metadata": {},
   "source": [
    "The `report/` directory contains all of Scikick's outputs.\n",
    "\n",
    "Opening `report/out_html/index.html` in a web browser shows the website \n",
    "homepage with menu items for each added notebook and a project map with the two notebooks (\"Hello\" and \"World\").\n",
    "\n",
    "![Screenshot of index.html (homepage).](../../HW/imgs/hello_world.png)"
   ]
  },
  {
   "cell_type": "markdown",
   "metadata": {},
   "source": [
    "# Tracking Changes\n",
    "\n",
    "Running `sk status` again will result in no jobs to be run."
   ]
  },
  {
   "cell_type": "code",
   "execution_count": null,
   "metadata": {},
   "outputs": [],
   "source": [
    "sk status"
   ]
  },
  {
   "cell_type": "markdown",
   "metadata": {},
   "source": [
    "And `sk run` will do nothing."
   ]
  },
  {
   "cell_type": "code",
   "execution_count": null,
   "metadata": {},
   "outputs": [],
   "source": [
    "sk run"
   ]
  },
  {
   "cell_type": "markdown",
   "metadata": {},
   "source": [
    "Scikick tracks files using their timestamp (using snakemake) to determine if the report is up-to-date.\n",
    "For example, if we make changes to `hello.Rmd` and use `sk status`"
   ]
  },
  {
   "cell_type": "code",
   "execution_count": null,
   "metadata": {},
   "outputs": [],
   "source": [
    "# Simulating changes to hello.Rmd\n",
    "touch hello.Rmd\n",
    "sk status"
   ]
  },
  {
   "cell_type": "markdown",
   "metadata": {},
   "source": [
    "`hello.Rmd` is now queued for re-execution and `sk run` creates the page `report/out_html/hello.html` from scratch."
   ]
  },
  {
   "cell_type": "code",
   "execution_count": null,
   "metadata": {},
   "outputs": [],
   "source": [
    "sk run"
   ]
  },
  {
   "cell_type": "markdown",
   "metadata": {},
   "source": [
    "# sk add -d (Adding Dependencies)\n",
    "\n",
    "To create a notebook which uses the outputs of other notebooks, we can use [sk add -d](help.html#add) to ensure notebooks are executed in the correct order.    "
   ]
  },
  {
   "cell_type": "markdown",
   "metadata": {},
   "source": [
    "Let's add a new notebook `full_greeting.Rmd` and specify the `hello.Rmd` and `world.R` notebooks as dependencies."
   ]
  },
  {
   "cell_type": "code",
   "execution_count": null,
   "metadata": {},
   "outputs": [],
   "source": [
    "cat full_greeting.Rmd"
   ]
  },
  {
   "cell_type": "code",
   "execution_count": null,
   "metadata": {},
   "outputs": [],
   "source": [
    "sk add full_greeting.Rmd -d hello.Rmd -d world.R"
   ]
  },
  {
   "cell_type": "markdown",
   "metadata": {},
   "source": [
    "Executing to create `report/out_html/full_greeting.html`."
   ]
  },
  {
   "cell_type": "markdown",
   "metadata": {},
   "source": [
    "![Screenshot of full_greeting.html.](../../HW/imgs/full_greeting.png)"
   ]
  },
  {
   "cell_type": "markdown",
   "metadata": {},
   "source": [
    "We see that the project map reflects the workflow configuration and \"Full Greeting\" was added to the navigation."
   ]
  },
  {
   "cell_type": "markdown",
   "metadata": {},
   "source": [
    "# Dependency Awareness\n",
    "\n",
    "The full greeting we have created above is \"Hi, World!\", but we would like it to be \"Hello, World!\". We must make changes to `hello.Rmd` to update the greeting1 object."
   ]
  },
  {
   "cell_type": "code",
   "execution_count": null,
   "metadata": {},
   "outputs": [],
   "source": [
    "# Change from 'Hi' to 'Hello' in hello.Rmd\n",
    "sed -i '' 's/Hi/Hello/g' hello.Rmd\n",
    "# Inspect the change\n",
    "cat hello.Rmd"
   ]
  },
  {
   "cell_type": "code",
   "execution_count": null,
   "metadata": {},
   "outputs": [],
   "source": [
    "sk run"
   ]
  },
  {
   "cell_type": "markdown",
   "metadata": {},
   "source": [
    "We see above that, not only was `hello.Rmd` re-executed, but `full_greeting.Rmd` was also re-executed as it lists `hello.Rmd` as a dependency. The final result in `full_greeting.html` was updated.\n",
    "\n",
    "![Second screenshot of full_greeting.html.](../../HW/imgs/full_greeting_fixed.png)"
   ]
  },
  {
   "cell_type": "markdown",
   "metadata": {},
   "source": [
    "# Summary\n",
    "\n",
    "The usage of `sk init`, `sk add`, `sk status`, and `sk run` as shown above is typically enough to begin using Scikick for your data analysis.\n",
    "\n"
   ]
  }
 ],
 "metadata": {
  "kernelspec": {
   "display_name": "Bash",
   "language": "bash",
   "name": "bash"
  },
  "language_info": {
   "codemirror_mode": "shell",
   "file_extension": ".sh",
   "mimetype": "text/x-sh",
   "name": "bash"
  }
 },
 "nbformat": 4,
 "nbformat_minor": 4
}
