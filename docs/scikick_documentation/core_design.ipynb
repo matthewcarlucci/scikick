{
 "cells": [
  {
   "cell_type": "markdown",
   "metadata": {},
   "source": [
    "---\n",
    "title: Core Scikick Architechture\n",
    "---"
   ]
  },
  {
   "cell_type": "markdown",
   "metadata": {},
   "source": [
    "<div hidden>"
   ]
  },
  {
   "cell_type": "code",
   "execution_count": null,
   "metadata": {},
   "outputs": [],
   "source": [
    "# Remove previous executions of this tutorial\n",
    "rm -rf test\n",
    "mkdir test"
   ]
  },
  {
   "cell_type": "markdown",
   "metadata": {},
   "source": [
    "</div>"
   ]
  },
  {
   "cell_type": "markdown",
   "metadata": {},
   "source": [
    "# The Main Objective\n",
    "\n",
    "Scikick aims to improve projects with many related computational notebooks by allowing for simple expressions of dependence between the notebooks to be translated into the required execution patterns and a systematically organized report.\n",
    "\n",
    "This requires Scikick to handle three main areas:\n",
    "\n",
    "1. Dependence definitions\n",
    "2. Notebook execution\n",
    "3. Report compilation"
   ]
  },
  {
   "cell_type": "markdown",
   "metadata": {},
   "source": [
    "# Suitable Projects for Scikick"
   ]
  },
  {
   "cell_type": "markdown",
   "metadata": {},
   "source": [
    "Scikick is designed to enable loosely structured projects containing notebooks (which may not have been developed with any build system in mind) to rapidly adopt systematic execution patterns with minimal changes to analysis development practice. No special variables are defined within notebooks, therefore, notebooks can execute outside of Scikick for development work and then execute with `sk run` for validation.\n"
   ]
  },
  {
   "cell_type": "markdown",
   "metadata": {},
   "source": [
    "# Dependence Definitions\n",
    "\n",
    "Projects with multiple notebooks often have documentation which describes the order in which notebooks must be executed. Scikick provides a standardized minimal format for this definition in [YAML](https://yaml.org/) format for a both human- and machine-readable description of notebook execution order. The basic format is as follows:\n",
    "\n",
    "```\n",
    "analysis:\n",
    "  - first_notebook.Rmd: []\n",
    "  - second_notebook.Rmd: [first_notebook.Rmd]\n",
    "```\n",
    "\n",
    "Where the keys for each notebook, specify what must execute before it (e.g. above, first_notebook.Rmd must execute before second_notebook.Rmd).\n",
    "\n",
    "# Workflow Management\n",
    "\n",
    "Execution in Scikick is handled by a highly generic [snakemake](https://snakemake.readthedocs.io/en/stable/) workflow for executing computational notebooks. Snakemake is a workflow tool that is well suited to take in input files and executes a prespecified command to generate output files.\n",
    "\n",
    "For example, in simplistic snakemake pseudocode, Scikick executes `.Rmd` input notebooks as follows:\n",
    "\n",
    "```\n",
    "rule execute_code:\n",
    "    input: first_notebook.Rmd\n",
    "    output: report/out_md/first_notebook.md\n",
    "    R: knitr::knit(input = {input}, output = {output})\n",
    "    \n",
    "rule generate_html:\n",
    "    input: report/out_md/first_notebook.md\n",
    "    output: report/out_html/first_notebook.html\n",
    "    R: rmarkdown::render({input},{output})\n",
    "```\n",
    "\n",
    "That is:\n",
    "\n",
    "1. Notebooks are executed to produce a markdown file.\n",
    "2. Markdown files are converted into a website (`.html` files).\n",
    "\n",
    "Some supplementary rules support this process.\n",
    "\n",
    "The above is specific to `.Rmd` files, however, similar rules exist for other file types. \n",
    "\n",
    "Furthermore, the rules implemented in Scikick specify dependent notebooks as follows:\n",
    "\n",
    "<pre> <code>\n",
    "rule execute_code:\n",
    "    input: second_notebook.Rmd, <b> report/out_md/first_notebook.md </b>\n",
    "    output: report/out_md/second_notebook.md\n",
    "    R: ...\n",
    "</code>\n",
    "</pre>\n",
    "\n",
    "Here, the `second_notebook.Rmd` requires the `first_notebook.Rmd` to have been executed (*i.e.* an up-to-date `report/out_md/first_notebook.md` output) prior to itself executing.\n",
    "\n",
    "In order to avoid maintainenance of project-specific Snakefiles specifying each of these rules, Scikick accepts a simple configuration file which specifies which notebooks should be executed and in which order. \n",
    "\n",
    "Below, we will generate this configuration file using the Scikick CLI's [sk init](help.html#init)."
   ]
  },
  {
   "cell_type": "code",
   "execution_count": null,
   "metadata": {},
   "outputs": [],
   "source": [
    "# Go to an empty testing directory\n",
    "cd test\n",
    "# Get scikick.yml template\n",
    "sk init -y"
   ]
  },
  {
   "cell_type": "markdown",
   "metadata": {},
   "source": [
    "Taking a look at the configuration file descriptions:"
   ]
  },
  {
   "cell_type": "code",
   "execution_count": null,
   "metadata": {},
   "outputs": [],
   "source": [
    "cat scikick.yml"
   ]
  },
  {
   "cell_type": "markdown",
   "metadata": {},
   "source": [
    "Keys in the `analysis` field will be executed using the Scikick snakemake workflows, while values to these `analysis` keys specify which other files the notebook should depend on (*i.e.* used as further `inputs` in the snakemake rule).\n",
    "\n",
    "For further convenience, the Scikick CLI allows for manipulation of this configuration file to increase accesibility and avoid mistakes in its specification.\n",
    "\n",
    "For example, we will use [sk add](help.html#add) to add a notebook to an analysis."
   ]
  },
  {
   "cell_type": "code",
   "execution_count": null,
   "metadata": {},
   "outputs": [],
   "source": [
    "sk add notebook.Rmd"
   ]
  },
  {
   "cell_type": "markdown",
   "metadata": {},
   "source": [
    "Added the notebook to the project under the `analysis` field."
   ]
  },
  {
   "cell_type": "code",
   "execution_count": null,
   "metadata": {},
   "outputs": [],
   "source": [
    "cat scikick.yml"
   ]
  },
  {
   "cell_type": "markdown",
   "metadata": {},
   "source": [
    "And a [sk status](help.html#status) command uses the workflow rules with snakemake to recognize that the notebook requires execution, taking this output from snakemake:"
   ]
  },
  {
   "cell_type": "code",
   "execution_count": null,
   "metadata": {},
   "outputs": [],
   "source": [
    "# Calling on snakemake with Scikick and passing arguments \n",
    "# to snakemake to get status output used by sk status\n",
    "sk run -v -s -n -r --nocolor "
   ]
  },
  {
   "cell_type": "markdown",
   "metadata": {},
   "source": [
    "And parsing it into this summarized output:"
   ]
  },
  {
   "cell_type": "code",
   "execution_count": null,
   "metadata": {},
   "outputs": [],
   "source": [
    "sk status"
   ]
  },
  {
   "cell_type": "markdown",
   "metadata": {},
   "source": [
    "# Notebook Execution"
   ]
  },
  {
   "cell_type": "markdown",
   "metadata": {},
   "source": [
    "Running with [sk run](help.html#run) will execute the Scikick workflows for notebook execution and website building."
   ]
  },
  {
   "cell_type": "code",
   "execution_count": null,
   "metadata": {},
   "outputs": [],
   "source": [
    "sk run"
   ]
  },
  {
   "cell_type": "markdown",
   "metadata": {},
   "source": [
    "Scikick outputs short messages for each job that has been started (supplemental tasks are indented to highlight the main execution tasks). We can see that Scikick is executing the notebook and creating the final site. The homepage is created under `report/out_html/index.html`.\n",
    "\n",
    "`sk: Executing code in *` tasks are executing notebooks with appropriate methods (e.g. [knitr](https://yihui.org/knitr/) for `Rmd` and [nbconvert](https://nbconvert.readthedocs.io/en/latest/) for `ipynb`). This is where code is being executed.\n",
    "\n",
    "`sk:  Adding project map *` tasks are appending content to the outputs.\n",
    "\n",
    "`sk:   Converting *` tasks are generating a website from the content (using R package rmarkdown::render_site which uses [pandoc](https://pandoc.org/)).\n",
    "\n",
    "See the Scikick [snakemake rule definitions](https://github.com/matthewcarlucci/scikick/tree/master/scikick) source code for further details."
   ]
  },
  {
   "cell_type": "markdown",
   "metadata": {},
   "source": [
    "# Report Rendering\n",
    "\n",
    "Scikick utilizes pandoc with Rmarkdown to build a website from the notebook outputs. Additional workflows create the necessary site files and converts the markdown files in the `out_md` directory to the final HTML outputs in `out_html`.\n"
   ]
  }
 ],
 "metadata": {
  "kernelspec": {
   "display_name": "Bash",
   "language": "bash",
   "name": "bash"
  },
  "language_info": {
   "codemirror_mode": "shell",
   "file_extension": ".sh",
   "mimetype": "text/x-sh",
   "name": "bash"
  }
 },
 "nbformat": 4,
 "nbformat_minor": 4
}
